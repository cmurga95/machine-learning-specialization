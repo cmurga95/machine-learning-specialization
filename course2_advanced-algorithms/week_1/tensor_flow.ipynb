{
 "cells": [
  {
   "cell_type": "code",
   "execution_count": null,
   "metadata": {},
   "outputs": [],
   "source": [
    "x = np.array([200.0, 17.0])\n",
    "\n",
    "layer_1 = Dense(units = 3, activation = 'sigmoid')\n",
    "\n",
    "a1 = layer_1(x)\n",
    "\n",
    "layer_2 = Dense(units = 1, activation = 'sigmoid')\n",
    "\n",
    "a2 = layer(a1)\n",
    "\n",
    "if a2>= 0.5:\n",
    "    yhat = 1\n",
    "else:\n",
    "    yhat\n"
   ]
  }
 ],
 "metadata": {
  "language_info": {
   "name": "python"
  }
 },
 "nbformat": 4,
 "nbformat_minor": 2
}
