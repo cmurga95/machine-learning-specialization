{
 "cells": [
  {
   "cell_type": "code",
   "execution_count": 7,
   "metadata": {},
   "outputs": [
    {
     "name": "stdout",
     "output_type": "stream",
     "text": [
      "[[200  17]]\n",
      "[[200]\n",
      " [ 17]]\n",
      "[200  16]\n"
     ]
    }
   ],
   "source": [
    "import numpy as np\n",
    "\n",
    "x1 = np.array([[200, 17]]) ## 1x2 array/matrix\n",
    "\n",
    "x2 = np.array([[200],\n",
    "              [17]]) #2x1/matrix\n",
    "\n",
    "print(x1)\n",
    "print(x2)\n",
    "\n",
    "x3 = np.array([200, 16]) #its technically 1D vector\n",
    "print(x3)"
   ]
  },
  {
   "cell_type": "code",
   "execution_count": null,
   "metadata": {},
   "outputs": [],
   "source": [
    "x = np.array([200, 17])\n",
    "\n",
    "layer = Dense(units = 3, activation = 'sigmoid')\n",
    "a1 = layer_1(x)\n",
    "\n",
    "layer_2 = Dense(units=1, activation = 'sigmoid')\n",
    "a2 = layer_2(a1)\n",
    "\n"
   ]
  },
  {
   "cell_type": "code",
   "execution_count": null,
   "metadata": {},
   "outputs": [],
   "source": [
    "layer_1 = Dense(units= 3, activation = 'sigmoid')\n",
    "layer_2 = Dense(units = 1, activation = 'sigmoid')\n",
    "model = Sequential([layer_1, layer_2])\n",
    "\n",
    "model.compile(..)\n",
    "x = np.array([[0..00..00.]])\n",
    "\n",
    "y = np.array([1,0])\n",
    "model.fit(x, y)\n",
    "\n",
    "model.predict(x_new)\n",
    "\n"
   ]
  },
  {
   "cell_type": "code",
   "execution_count": null,
   "metadata": {},
   "outputs": [],
   "source": []
  }
 ],
 "metadata": {
  "kernelspec": {
   "display_name": "mlenv",
   "language": "python",
   "name": "python3"
  },
  "language_info": {
   "codemirror_mode": {
    "name": "ipython",
    "version": 3
   },
   "file_extension": ".py",
   "mimetype": "text/x-python",
   "name": "python",
   "nbconvert_exporter": "python",
   "pygments_lexer": "ipython3",
   "version": "3.9.17"
  }
 },
 "nbformat": 4,
 "nbformat_minor": 2
}
